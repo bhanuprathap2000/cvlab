{
 "cells": [
  {
   "cell_type": "code",
   "execution_count": 1,
   "metadata": {},
   "outputs": [
    {
     "name": "stderr",
     "output_type": "stream",
     "text": [
      "  0%|          | 0/33 [00:00<?, ?it/s]"
     ]
    },
    {
     "name": "stdout",
     "output_type": "stream",
     "text": [
      "corners found\n"
     ]
    },
    {
     "name": "stderr",
     "output_type": "stream",
     "text": [
      "  3%|▎         | 1/33 [00:02<01:35,  2.98s/it]"
     ]
    },
    {
     "name": "stdout",
     "output_type": "stream",
     "text": [
      "corners found\n"
     ]
    },
    {
     "name": "stderr",
     "output_type": "stream",
     "text": [
      "  6%|▌         | 2/33 [00:04<01:00,  1.96s/it]"
     ]
    },
    {
     "name": "stdout",
     "output_type": "stream",
     "text": [
      "corners found\n"
     ]
    },
    {
     "name": "stderr",
     "output_type": "stream",
     "text": [
      "  9%|▉         | 3/33 [00:05<00:45,  1.50s/it]"
     ]
    },
    {
     "name": "stdout",
     "output_type": "stream",
     "text": [
      "corners found\n"
     ]
    },
    {
     "name": "stderr",
     "output_type": "stream",
     "text": [
      " 12%|█▏        | 4/33 [00:06<00:36,  1.25s/it]"
     ]
    },
    {
     "name": "stdout",
     "output_type": "stream",
     "text": [
      "corners found\n"
     ]
    },
    {
     "name": "stderr",
     "output_type": "stream",
     "text": [
      " 15%|█▌        | 5/33 [00:06<00:30,  1.11s/it]"
     ]
    },
    {
     "name": "stdout",
     "output_type": "stream",
     "text": [
      "corners found\n"
     ]
    },
    {
     "name": "stderr",
     "output_type": "stream",
     "text": [
      " 18%|█▊        | 6/33 [00:07<00:27,  1.02s/it]"
     ]
    },
    {
     "name": "stdout",
     "output_type": "stream",
     "text": [
      "corners found\n"
     ]
    },
    {
     "name": "stderr",
     "output_type": "stream",
     "text": [
      " 21%|██        | 7/33 [00:08<00:25,  1.03it/s]"
     ]
    },
    {
     "name": "stdout",
     "output_type": "stream",
     "text": [
      "corners found\n"
     ]
    },
    {
     "name": "stderr",
     "output_type": "stream",
     "text": [
      " 24%|██▍       | 8/33 [00:09<00:23,  1.08it/s]"
     ]
    },
    {
     "name": "stdout",
     "output_type": "stream",
     "text": [
      "corners found\n"
     ]
    },
    {
     "name": "stderr",
     "output_type": "stream",
     "text": [
      " 27%|██▋       | 9/33 [00:10<00:24,  1.00s/it]"
     ]
    },
    {
     "name": "stdout",
     "output_type": "stream",
     "text": [
      "corners found\n"
     ]
    },
    {
     "name": "stderr",
     "output_type": "stream",
     "text": [
      " 30%|███       | 10/33 [00:11<00:22,  1.02it/s]"
     ]
    },
    {
     "name": "stdout",
     "output_type": "stream",
     "text": [
      "corners found\n"
     ]
    },
    {
     "name": "stderr",
     "output_type": "stream",
     "text": [
      " 33%|███▎      | 11/33 [00:12<00:21,  1.04it/s]"
     ]
    },
    {
     "name": "stdout",
     "output_type": "stream",
     "text": [
      "corners found\n"
     ]
    },
    {
     "name": "stderr",
     "output_type": "stream",
     "text": [
      " 36%|███▋      | 12/33 [00:13<00:20,  1.04it/s]"
     ]
    },
    {
     "name": "stdout",
     "output_type": "stream",
     "text": [
      "corners found\n"
     ]
    },
    {
     "name": "stderr",
     "output_type": "stream",
     "text": [
      " 39%|███▉      | 13/33 [00:14<00:19,  1.02it/s]"
     ]
    },
    {
     "name": "stdout",
     "output_type": "stream",
     "text": [
      "corners found\n"
     ]
    },
    {
     "name": "stderr",
     "output_type": "stream",
     "text": [
      " 42%|████▏     | 14/33 [00:15<00:18,  1.03it/s]"
     ]
    },
    {
     "name": "stdout",
     "output_type": "stream",
     "text": [
      "corners found\n"
     ]
    },
    {
     "name": "stderr",
     "output_type": "stream",
     "text": [
      " 45%|████▌     | 15/33 [00:16<00:17,  1.03it/s]"
     ]
    },
    {
     "name": "stdout",
     "output_type": "stream",
     "text": [
      "corners found\n"
     ]
    },
    {
     "name": "stderr",
     "output_type": "stream",
     "text": [
      " 48%|████▊     | 16/33 [00:17<00:16,  1.05it/s]"
     ]
    },
    {
     "name": "stdout",
     "output_type": "stream",
     "text": [
      "corners found\n"
     ]
    },
    {
     "name": "stderr",
     "output_type": "stream",
     "text": [
      " 52%|█████▏    | 17/33 [00:18<00:15,  1.07it/s]"
     ]
    },
    {
     "name": "stdout",
     "output_type": "stream",
     "text": [
      "corners found\n"
     ]
    },
    {
     "name": "stderr",
     "output_type": "stream",
     "text": [
      " 55%|█████▍    | 18/33 [00:19<00:13,  1.10it/s]"
     ]
    },
    {
     "name": "stdout",
     "output_type": "stream",
     "text": [
      "corners found\n"
     ]
    },
    {
     "name": "stderr",
     "output_type": "stream",
     "text": [
      " 58%|█████▊    | 19/33 [00:19<00:12,  1.11it/s]"
     ]
    },
    {
     "name": "stdout",
     "output_type": "stream",
     "text": [
      "corners found\n"
     ]
    },
    {
     "name": "stderr",
     "output_type": "stream",
     "text": [
      " 61%|██████    | 20/33 [00:20<00:11,  1.12it/s]"
     ]
    },
    {
     "name": "stdout",
     "output_type": "stream",
     "text": [
      "corners found\n"
     ]
    },
    {
     "name": "stderr",
     "output_type": "stream",
     "text": [
      " 64%|██████▎   | 21/33 [00:21<00:10,  1.12it/s]"
     ]
    },
    {
     "name": "stdout",
     "output_type": "stream",
     "text": [
      "corners found\n"
     ]
    },
    {
     "name": "stderr",
     "output_type": "stream",
     "text": [
      " 67%|██████▋   | 22/33 [00:22<00:09,  1.11it/s]"
     ]
    },
    {
     "name": "stdout",
     "output_type": "stream",
     "text": [
      "corners found\n"
     ]
    },
    {
     "name": "stderr",
     "output_type": "stream",
     "text": [
      " 70%|██████▉   | 23/33 [00:23<00:08,  1.12it/s]"
     ]
    },
    {
     "name": "stdout",
     "output_type": "stream",
     "text": [
      "corners found\n"
     ]
    },
    {
     "name": "stderr",
     "output_type": "stream",
     "text": [
      " 73%|███████▎  | 24/33 [00:24<00:07,  1.13it/s]"
     ]
    },
    {
     "name": "stdout",
     "output_type": "stream",
     "text": [
      "corners found\n"
     ]
    },
    {
     "name": "stderr",
     "output_type": "stream",
     "text": [
      " 76%|███████▌  | 25/33 [00:25<00:07,  1.14it/s]"
     ]
    },
    {
     "name": "stdout",
     "output_type": "stream",
     "text": [
      "corners found\n"
     ]
    },
    {
     "name": "stderr",
     "output_type": "stream",
     "text": [
      " 79%|███████▉  | 26/33 [00:26<00:06,  1.15it/s]"
     ]
    },
    {
     "name": "stdout",
     "output_type": "stream",
     "text": [
      "corners found\n"
     ]
    },
    {
     "name": "stderr",
     "output_type": "stream",
     "text": [
      " 82%|████████▏ | 27/33 [00:27<00:05,  1.11it/s]"
     ]
    },
    {
     "name": "stdout",
     "output_type": "stream",
     "text": [
      "corners found\n"
     ]
    },
    {
     "name": "stderr",
     "output_type": "stream",
     "text": [
      " 85%|████████▍ | 28/33 [00:27<00:04,  1.14it/s]"
     ]
    },
    {
     "name": "stdout",
     "output_type": "stream",
     "text": [
      "corners found\n"
     ]
    },
    {
     "name": "stderr",
     "output_type": "stream",
     "text": [
      " 88%|████████▊ | 29/33 [00:28<00:03,  1.16it/s]"
     ]
    },
    {
     "name": "stdout",
     "output_type": "stream",
     "text": [
      "corners found\n"
     ]
    },
    {
     "name": "stderr",
     "output_type": "stream",
     "text": [
      " 91%|█████████ | 30/33 [00:29<00:02,  1.16it/s]"
     ]
    },
    {
     "name": "stdout",
     "output_type": "stream",
     "text": [
      "corners found\n"
     ]
    },
    {
     "name": "stderr",
     "output_type": "stream",
     "text": [
      " 94%|█████████▍| 31/33 [00:30<00:01,  1.16it/s]"
     ]
    },
    {
     "name": "stdout",
     "output_type": "stream",
     "text": [
      "corners found\n"
     ]
    },
    {
     "name": "stderr",
     "output_type": "stream",
     "text": [
      " 97%|█████████▋| 32/33 [00:31<00:00,  1.17it/s]"
     ]
    },
    {
     "name": "stdout",
     "output_type": "stream",
     "text": [
      "corners found\n"
     ]
    },
    {
     "name": "stderr",
     "output_type": "stream",
     "text": [
      "100%|██████████| 33/33 [00:32<00:00,  1.03it/s]\n"
     ]
    }
   ],
   "source": [
    "import cv2\n",
    "import numpy as np\n",
    "from tqdm import tqdm\n",
    "\n",
    "\n",
    "# Set the path to the images captured by the left and right cameras\n",
    "pathL = \"D:/8 th semester/computer vision/cvlab/LAB-3/images/stereoLeft\"\n",
    "pathR = \"D:/8 th semester/computer vision/cvlab/LAB-3/images/stereoRight\"\n",
    "\n",
    "# Termination criteria for refining the detected corners\n",
    "criteria = (cv2.TERM_CRITERIA_EPS + cv2.TERM_CRITERIA_MAX_ITER, 30, 0.001)\n",
    "\n",
    "\n",
    "objp = np.zeros((10*6,3), np.float32)\n",
    "objp[:,:2] = np.mgrid[0:10,0:6].T.reshape(-1,2)\n",
    "\n",
    "img_ptsL = []\n",
    "img_ptsR = []\n",
    "obj_pts =  []\n",
    "\n",
    "for i in tqdm(range(0,33)):\n",
    "\timgL = cv2.imread(pathL+\"/imageL{}.png\".format(i))\n",
    "\timgR = cv2.imread(pathR+\"/imageR{}.png\".format(i))\n",
    "\timgL_gray = cv2.imread(pathL+\"/imageL{}.png\".format(i),0)\n",
    "\timgR_gray = cv2.imread(pathR+\"/imageR{}.png\".format(i),0)\n",
    "\n",
    "\timgL=cv2.resize(imgL,(640,480))\n",
    "\timgR=cv2.resize(imgR,(640,480))\n",
    "\timgL_gray=cv2.resize(imgL_gray,(640,480))\n",
    "\timgR_gray=cv2.resize(imgR_gray,(640,480))\n",
    "\n",
    "\toutputL = imgL.copy()\n",
    "\toutputR = imgR.copy()\n",
    "\tretR, cornersR =  cv2.findChessboardCorners(outputR,(10,6),None)\n",
    "\tretL, cornersL = cv2.findChessboardCorners(outputL,(10,6),None)\n",
    "\n",
    "\tif retR and retL:\n",
    "\t\tprint(\"corners found\")\n",
    "\t\tobj_pts.append(objp)\n",
    "\t\tcv2.cornerSubPix(imgR_gray,cornersR,(11,11),(-1,-1),criteria)\n",
    "\t\tcv2.cornerSubPix(imgL_gray,cornersL,(11,11),(-1,-1),criteria)\n",
    "\t\tcv2.drawChessboardCorners(outputR,(10,6),cornersR,retR)\n",
    "\t\tcv2.drawChessboardCorners(outputL,(10,6),cornersL,retL)\n",
    "\t\tcv2.imshow('cornersR',outputR)\n",
    "\t\tcv2.imshow('cornersL',outputL)\n",
    "\t\tcv2.waitKey(0)\n",
    "\t\timg_ptsL.append(cornersL)\n",
    "\t\timg_ptsR.append(cornersR)\n",
    "\n",
    "cv2.destroyAllWindows()\n",
    "\n",
    "# Calibrating left camera\n",
    "retL, mtxL, distL, rvecsL, tvecsL = cv2.calibrateCamera(obj_pts,img_ptsL,imgL_gray.shape[::-1],None,None)\n",
    "hL,wL= imgL_gray.shape[:2]\n",
    "new_mtxL, roiL= cv2.getOptimalNewCameraMatrix(mtxL,distL,(wL,hL),1,(wL,hL))\n",
    "\n",
    "# Calibrating right camera\n",
    "retR, mtxR, distR, rvecsR, tvecsR = cv2.calibrateCamera(obj_pts,img_ptsR,imgR_gray.shape[::-1],None,None)\n",
    "hR,wR= imgR_gray.shape[:2]\n",
    "new_mtxR, roiR= cv2.getOptimalNewCameraMatrix(mtxR,distR,(wR,hR),1,(wR,hR))"
   ]
  },
  {
   "cell_type": "code",
   "execution_count": 2,
   "metadata": {},
   "outputs": [],
   "source": [
    "flags = 0\n",
    "flags |= cv2.CALIB_FIX_INTRINSIC\n",
    "# Here we fix the intrinsic camara matrixes so that only Rot, Trns, Emat and Fmat are calculated.\n",
    "# Hence intrinsic parameters are the same \n",
    "\n",
    "criteria_stereo= (cv2.TERM_CRITERIA_EPS + cv2.TERM_CRITERIA_MAX_ITER, 30, 0.001)\n",
    "\n",
    "\n",
    "# This step is performed to transformation between the two cameras and calculate Essential and Fundamenatl matrix\n",
    "retS, new_mtxL, distL, new_mtxR, distR, Rot, Trns, Emat, Fmat = cv2.stereoCalibrate(obj_pts, img_ptsL, img_ptsR, new_mtxL, distL, new_mtxR, distR, imgL_gray.shape[::-1], criteria_stereo, flags)"
   ]
  },
  {
   "cell_type": "code",
   "execution_count": 4,
   "metadata": {},
   "outputs": [],
   "source": [
    "rectify_scale= 1\n",
    "rect_l, rect_r, proj_mat_l, proj_mat_r, Q, roiL, roiR= cv2.stereoRectify(new_mtxL, distL, new_mtxR, distR, imgL_gray.shape[::-1], Rot, Trns, rectify_scale,(0,0))"
   ]
  },
  {
   "cell_type": "code",
   "execution_count": 5,
   "metadata": {},
   "outputs": [
    {
     "name": "stdout",
     "output_type": "stream",
     "text": [
      "Saving paraeters ......\n"
     ]
    }
   ],
   "source": [
    "Left_Stereo_Map= cv2.initUndistortRectifyMap(new_mtxL, distL, rect_l, proj_mat_l,\n",
    "                                             imgL_gray.shape[::-1], cv2.CV_16SC2)\n",
    "Right_Stereo_Map= cv2.initUndistortRectifyMap(new_mtxR, distR, rect_r, proj_mat_r,\n",
    "                                              imgR_gray.shape[::-1], cv2.CV_16SC2)\n",
    "\n",
    "print(\"Saving paraeters ......\")\n",
    "cv_file = cv2.FileStorage(\"stereo_rectify_maps.xml\", cv2.FILE_STORAGE_WRITE)\n",
    "cv_file.write(\"Left_Stereo_Map_x\",Left_Stereo_Map[0])\n",
    "cv_file.write(\"Left_Stereo_Map_y\",Left_Stereo_Map[1])\n",
    "cv_file.write(\"Right_Stereo_Map_x\",Right_Stereo_Map[0])\n",
    "cv_file.write(\"Right_Stereo_Map_y\",Right_Stereo_Map[1])\n",
    "cv_file.release()"
   ]
  },
  {
   "cell_type": "code",
   "execution_count": 6,
   "metadata": {},
   "outputs": [
    {
     "name": "stdout",
     "output_type": "stream",
     "text": [
      "[[-0.0625 -0.0625 -0.0625 ... -0.0625 -0.0625 -0.0625]\n",
      " [-0.0625 -0.0625 -0.0625 ... -0.0625 -0.0625 -0.0625]\n",
      " [-0.0625 -0.0625 -0.0625 ... -0.0625 -0.0625 -0.0625]\n",
      " ...\n",
      " [-0.0625 -0.0625 -0.0625 ... -0.0625 -0.0625 -0.0625]\n",
      " [-0.0625 -0.0625 -0.0625 ... -0.0625 -0.0625 -0.0625]\n",
      " [-0.0625 -0.0625 -0.0625 ... -0.0625 -0.0625 -0.0625]]\n",
      "[[-0.0625 -0.0625 -0.0625 ... -0.0625 -0.0625 -0.0625]\n",
      " [-0.0625 -0.0625 -0.0625 ... -0.0625 -0.0625 -0.0625]\n",
      " [-0.0625 -0.0625 -0.0625 ... -0.0625 -0.0625 -0.0625]\n",
      " ...\n",
      " [-0.0625 -0.0625 -0.0625 ... -0.0625 -0.0625 -0.0625]\n",
      " [-0.0625 -0.0625 -0.0625 ... -0.0625 -0.0625 -0.0625]\n",
      " [-0.0625 -0.0625 -0.0625 ... -0.0625 -0.0625 -0.0625]]\n",
      "[[-0.0625 -0.0625 -0.0625 ... -0.0625 -0.0625 -0.0625]\n",
      " [-0.0625 -0.0625 -0.0625 ... -0.0625 -0.0625 -0.0625]\n",
      " [-0.0625 -0.0625 -0.0625 ... -0.0625 -0.0625 -0.0625]\n",
      " ...\n",
      " [-0.0625 -0.0625 -0.0625 ... -0.0625 -0.0625 -0.0625]\n",
      " [-0.0625 -0.0625 -0.0625 ... -0.0625 -0.0625 -0.0625]\n",
      " [-0.0625 -0.0625 -0.0625 ... -0.0625 -0.0625 -0.0625]]\n",
      "[[-0.0625 -0.0625 -0.0625 ... -0.0625 -0.0625 -0.0625]\n",
      " [-0.0625 -0.0625 -0.0625 ... -0.0625 -0.0625 -0.0625]\n",
      " [-0.0625 -0.0625 -0.0625 ... -0.0625 -0.0625 -0.0625]\n",
      " ...\n",
      " [-0.0625 -0.0625 -0.0625 ... -0.0625 -0.0625 -0.0625]\n",
      " [-0.0625 -0.0625 -0.0625 ... -0.0625 -0.0625 -0.0625]\n",
      " [-0.0625 -0.0625 -0.0625 ... -0.0625 -0.0625 -0.0625]]\n",
      "[[-0.0625 -0.0625 -0.0625 ... -0.0625 -0.0625 -0.0625]\n",
      " [-0.0625 -0.0625 -0.0625 ... -0.0625 -0.0625 -0.0625]\n",
      " [-0.0625 -0.0625 -0.0625 ... -0.0625 -0.0625 -0.0625]\n",
      " ...\n",
      " [-0.0625 -0.0625 -0.0625 ... -0.0625 -0.0625 -0.0625]\n",
      " [-0.0625 -0.0625 -0.0625 ... -0.0625 -0.0625 -0.0625]\n",
      " [-0.0625 -0.0625 -0.0625 ... -0.0625 -0.0625 -0.0625]]\n",
      "[[-0.0625 -0.0625 -0.0625 ... -0.0625 -0.0625 -0.0625]\n",
      " [-0.0625 -0.0625 -0.0625 ... -0.0625 -0.0625 -0.0625]\n",
      " [-0.0625 -0.0625 -0.0625 ... -0.0625 -0.0625 -0.0625]\n",
      " ...\n",
      " [-0.0625 -0.0625 -0.0625 ... -0.0625 -0.0625 -0.0625]\n",
      " [-0.0625 -0.0625 -0.0625 ... -0.0625 -0.0625 -0.0625]\n",
      " [-0.0625 -0.0625 -0.0625 ... -0.0625 -0.0625 -0.0625]]\n",
      "[[-0.0625 -0.0625 -0.0625 ... -0.0625 -0.0625 -0.0625]\n",
      " [-0.0625 -0.0625 -0.0625 ... -0.0625 -0.0625 -0.0625]\n",
      " [-0.0625 -0.0625 -0.0625 ... -0.0625 -0.0625 -0.0625]\n",
      " ...\n",
      " [-0.0625 -0.0625 -0.0625 ... -0.0625 -0.0625 -0.0625]\n",
      " [-0.0625 -0.0625 -0.0625 ... -0.0625 -0.0625 -0.0625]\n",
      " [-0.0625 -0.0625 -0.0625 ... -0.0625 -0.0625 -0.0625]]\n",
      "[[-0.0625 -0.0625 -0.0625 ... -0.0625 -0.0625 -0.0625]\n",
      " [-0.0625 -0.0625 -0.0625 ... -0.0625 -0.0625 -0.0625]\n",
      " [-0.0625 -0.0625 -0.0625 ... -0.0625 -0.0625 -0.0625]\n",
      " ...\n",
      " [-0.0625 -0.0625 -0.0625 ... -0.0625 -0.0625 -0.0625]\n",
      " [-0.0625 -0.0625 -0.0625 ... -0.0625 -0.0625 -0.0625]\n",
      " [-0.0625 -0.0625 -0.0625 ... -0.0625 -0.0625 -0.0625]]\n",
      "[[-0.0625 -0.0625 -0.0625 ... -0.0625 -0.0625 -0.0625]\n",
      " [-0.0625 -0.0625 -0.0625 ... -0.0625 -0.0625 -0.0625]\n",
      " [-0.0625 -0.0625 -0.0625 ... -0.0625 -0.0625 -0.0625]\n",
      " ...\n",
      " [-0.0625 -0.0625 -0.0625 ... -0.0625 -0.0625 -0.0625]\n",
      " [-0.0625 -0.0625 -0.0625 ... -0.0625 -0.0625 -0.0625]\n",
      " [-0.0625 -0.0625 -0.0625 ... -0.0625 -0.0625 -0.0625]]\n",
      "[[-0.0625 -0.0625 -0.0625 ... -0.0625 -0.0625 -0.0625]\n",
      " [-0.0625 -0.0625 -0.0625 ... -0.0625 -0.0625 -0.0625]\n",
      " [-0.0625 -0.0625 -0.0625 ... -0.0625 -0.0625 -0.0625]\n",
      " ...\n",
      " [-0.0625 -0.0625 -0.0625 ... -0.0625 -0.0625 -0.0625]\n",
      " [-0.0625 -0.0625 -0.0625 ... -0.0625 -0.0625 -0.0625]\n",
      " [-0.0625 -0.0625 -0.0625 ... -0.0625 -0.0625 -0.0625]]\n",
      "[[-0.0625 -0.0625 -0.0625 ... -0.0625 -0.0625 -0.0625]\n",
      " [-0.0625 -0.0625 -0.0625 ... -0.0625 -0.0625 -0.0625]\n",
      " [-0.0625 -0.0625 -0.0625 ... -0.0625 -0.0625 -0.0625]\n",
      " ...\n",
      " [-0.0625 -0.0625 -0.0625 ... -0.0625 -0.0625 -0.0625]\n",
      " [-0.0625 -0.0625 -0.0625 ... -0.0625 -0.0625 -0.0625]\n",
      " [-0.0625 -0.0625 -0.0625 ... -0.0625 -0.0625 -0.0625]]\n",
      "[[-0.0625 -0.0625 -0.0625 ... -0.0625 -0.0625 -0.0625]\n",
      " [-0.0625 -0.0625 -0.0625 ... -0.0625 -0.0625 -0.0625]\n",
      " [-0.0625 -0.0625 -0.0625 ... -0.0625 -0.0625 -0.0625]\n",
      " ...\n",
      " [-0.0625 -0.0625 -0.0625 ... -0.0625 -0.0625 -0.0625]\n",
      " [-0.0625 -0.0625 -0.0625 ... -0.0625 -0.0625 -0.0625]\n",
      " [-0.0625 -0.0625 -0.0625 ... -0.0625 -0.0625 -0.0625]]\n",
      "[[-0.0625 -0.0625 -0.0625 ... -0.0625 -0.0625 -0.0625]\n",
      " [-0.0625 -0.0625 -0.0625 ... -0.0625 -0.0625 -0.0625]\n",
      " [-0.0625 -0.0625 -0.0625 ... -0.0625 -0.0625 -0.0625]\n",
      " ...\n",
      " [-0.0625 -0.0625 -0.0625 ... -0.0625 -0.0625 -0.0625]\n",
      " [-0.0625 -0.0625 -0.0625 ... -0.0625 -0.0625 -0.0625]\n",
      " [-0.0625 -0.0625 -0.0625 ... -0.0625 -0.0625 -0.0625]]\n",
      "[[-0.0625 -0.0625 -0.0625 ... -0.0625 -0.0625 -0.0625]\n",
      " [-0.0625 -0.0625 -0.0625 ... -0.0625 -0.0625 -0.0625]\n",
      " [-0.0625 -0.0625 -0.0625 ... -0.0625 -0.0625 -0.0625]\n",
      " ...\n",
      " [-0.0625 -0.0625 -0.0625 ... -0.0625 -0.0625 -0.0625]\n",
      " [-0.0625 -0.0625 -0.0625 ... -0.0625 -0.0625 -0.0625]\n",
      " [-0.0625 -0.0625 -0.0625 ... -0.0625 -0.0625 -0.0625]]\n",
      "[[-0.0625 -0.0625 -0.0625 ... -0.0625 -0.0625 -0.0625]\n",
      " [-0.0625 -0.0625 -0.0625 ... -0.0625 -0.0625 -0.0625]\n",
      " [-0.0625 -0.0625 -0.0625 ... -0.0625 -0.0625 -0.0625]\n",
      " ...\n",
      " [-0.0625 -0.0625 -0.0625 ... -0.0625 -0.0625 -0.0625]\n",
      " [-0.0625 -0.0625 -0.0625 ... -0.0625 -0.0625 -0.0625]\n",
      " [-0.0625 -0.0625 -0.0625 ... -0.0625 -0.0625 -0.0625]]\n",
      "[[-0.0625 -0.0625 -0.0625 ... -0.0625 -0.0625 -0.0625]\n",
      " [-0.0625 -0.0625 -0.0625 ... -0.0625 -0.0625 -0.0625]\n",
      " [-0.0625 -0.0625 -0.0625 ... -0.0625 -0.0625 -0.0625]\n",
      " ...\n",
      " [-0.0625 -0.0625 -0.0625 ... -0.0625 -0.0625 -0.0625]\n",
      " [-0.0625 -0.0625 -0.0625 ... -0.0625 -0.0625 -0.0625]\n",
      " [-0.0625 -0.0625 -0.0625 ... -0.0625 -0.0625 -0.0625]]\n",
      "[[-0.0625 -0.0625 -0.0625 ... -0.0625 -0.0625 -0.0625]\n",
      " [-0.0625 -0.0625 -0.0625 ... -0.0625 -0.0625 -0.0625]\n",
      " [-0.0625 -0.0625 -0.0625 ... -0.0625 -0.0625 -0.0625]\n",
      " ...\n",
      " [-0.0625 -0.0625 -0.0625 ... -0.0625 -0.0625 -0.0625]\n",
      " [-0.0625 -0.0625 -0.0625 ... -0.0625 -0.0625 -0.0625]\n",
      " [-0.0625 -0.0625 -0.0625 ... -0.0625 -0.0625 -0.0625]]\n",
      "[[-0.0625 -0.0625 -0.0625 ... -0.0625 -0.0625 -0.0625]\n",
      " [-0.0625 -0.0625 -0.0625 ... -0.0625 -0.0625 -0.0625]\n",
      " [-0.0625 -0.0625 -0.0625 ... -0.0625 -0.0625 -0.0625]\n",
      " ...\n",
      " [-0.0625 -0.0625 -0.0625 ... -0.0625 -0.0625 -0.0625]\n",
      " [-0.0625 -0.0625 -0.0625 ... -0.0625 -0.0625 -0.0625]\n",
      " [-0.0625 -0.0625 -0.0625 ... -0.0625 -0.0625 -0.0625]]\n",
      "[[-0.0625 -0.0625 -0.0625 ... -0.0625 -0.0625 -0.0625]\n",
      " [-0.0625 -0.0625 -0.0625 ... -0.0625 -0.0625 -0.0625]\n",
      " [-0.0625 -0.0625 -0.0625 ... -0.0625 -0.0625 -0.0625]\n",
      " ...\n",
      " [-0.0625 -0.0625 -0.0625 ... -0.0625 -0.0625 -0.0625]\n",
      " [-0.0625 -0.0625 -0.0625 ... -0.0625 -0.0625 -0.0625]\n",
      " [-0.0625 -0.0625 -0.0625 ... -0.0625 -0.0625 -0.0625]]\n",
      "[[-0.0625 -0.0625 -0.0625 ... -0.0625 -0.0625 -0.0625]\n",
      " [-0.0625 -0.0625 -0.0625 ... -0.0625 -0.0625 -0.0625]\n",
      " [-0.0625 -0.0625 -0.0625 ... -0.0625 -0.0625 -0.0625]\n",
      " ...\n",
      " [-0.0625 -0.0625 -0.0625 ... -0.0625 -0.0625 -0.0625]\n",
      " [-0.0625 -0.0625 -0.0625 ... -0.0625 -0.0625 -0.0625]\n",
      " [-0.0625 -0.0625 -0.0625 ... -0.0625 -0.0625 -0.0625]]\n",
      "[[-0.0625 -0.0625 -0.0625 ... -0.0625 -0.0625 -0.0625]\n",
      " [-0.0625 -0.0625 -0.0625 ... -0.0625 -0.0625 -0.0625]\n",
      " [-0.0625 -0.0625 -0.0625 ... -0.0625 -0.0625 -0.0625]\n",
      " ...\n",
      " [-0.0625 -0.0625 -0.0625 ... -0.0625 -0.0625 -0.0625]\n",
      " [-0.0625 -0.0625 -0.0625 ... -0.0625 -0.0625 -0.0625]\n",
      " [-0.0625 -0.0625 -0.0625 ... -0.0625 -0.0625 -0.0625]]\n",
      "[[-0.0625 -0.0625 -0.0625 ... -0.0625 -0.0625 -0.0625]\n",
      " [-0.0625 -0.0625 -0.0625 ... -0.0625 -0.0625 -0.0625]\n",
      " [-0.0625 -0.0625 -0.0625 ... -0.0625 -0.0625 -0.0625]\n",
      " ...\n",
      " [-0.0625 -0.0625 -0.0625 ... -0.0625 -0.0625 -0.0625]\n",
      " [-0.0625 -0.0625 -0.0625 ... -0.0625 -0.0625 -0.0625]\n",
      " [-0.0625 -0.0625 -0.0625 ... -0.0625 -0.0625 -0.0625]]\n",
      "[[-0.0625 -0.0625 -0.0625 ... -0.0625 -0.0625 -0.0625]\n",
      " [-0.0625 -0.0625 -0.0625 ... -0.0625 -0.0625 -0.0625]\n",
      " [-0.0625 -0.0625 -0.0625 ... -0.0625 -0.0625 -0.0625]\n",
      " ...\n",
      " [-0.0625 -0.0625 -0.0625 ... -0.0625 -0.0625 -0.0625]\n",
      " [-0.0625 -0.0625 -0.0625 ... -0.0625 -0.0625 -0.0625]\n",
      " [-0.0625 -0.0625 -0.0625 ... -0.0625 -0.0625 -0.0625]]\n",
      "[[-0.0625 -0.0625 -0.0625 ... -0.0625 -0.0625 -0.0625]\n",
      " [-0.0625 -0.0625 -0.0625 ... -0.0625 -0.0625 -0.0625]\n",
      " [-0.0625 -0.0625 -0.0625 ... -0.0625 -0.0625 -0.0625]\n",
      " ...\n",
      " [-0.0625 -0.0625 -0.0625 ... -0.0625 -0.0625 -0.0625]\n",
      " [-0.0625 -0.0625 -0.0625 ... -0.0625 -0.0625 -0.0625]\n",
      " [-0.0625 -0.0625 -0.0625 ... -0.0625 -0.0625 -0.0625]]\n",
      "[[-0.0625 -0.0625 -0.0625 ... -0.0625 -0.0625 -0.0625]\n",
      " [-0.0625 -0.0625 -0.0625 ... -0.0625 -0.0625 -0.0625]\n",
      " [-0.0625 -0.0625 -0.0625 ... -0.0625 -0.0625 -0.0625]\n",
      " ...\n",
      " [-0.0625 -0.0625 -0.0625 ... -0.0625 -0.0625 -0.0625]\n",
      " [-0.0625 -0.0625 -0.0625 ... -0.0625 -0.0625 -0.0625]\n",
      " [-0.0625 -0.0625 -0.0625 ... -0.0625 -0.0625 -0.0625]]\n",
      "[[-0.0625 -0.0625 -0.0625 ... -0.0625 -0.0625 -0.0625]\n",
      " [-0.0625 -0.0625 -0.0625 ... -0.0625 -0.0625 -0.0625]\n",
      " [-0.0625 -0.0625 -0.0625 ... -0.0625 -0.0625 -0.0625]\n",
      " ...\n",
      " [-0.0625 -0.0625 -0.0625 ... -0.0625 -0.0625 -0.0625]\n",
      " [-0.0625 -0.0625 -0.0625 ... -0.0625 -0.0625 -0.0625]\n",
      " [-0.0625 -0.0625 -0.0625 ... -0.0625 -0.0625 -0.0625]]\n",
      "[[-0.0625 -0.0625 -0.0625 ... -0.0625 -0.0625 -0.0625]\n",
      " [-0.0625 -0.0625 -0.0625 ... -0.0625 -0.0625 -0.0625]\n",
      " [-0.0625 -0.0625 -0.0625 ... -0.0625 -0.0625 -0.0625]\n",
      " ...\n",
      " [-0.0625 -0.0625 -0.0625 ... -0.0625 -0.0625 -0.0625]\n",
      " [-0.0625 -0.0625 -0.0625 ... -0.0625 -0.0625 -0.0625]\n",
      " [-0.0625 -0.0625 -0.0625 ... -0.0625 -0.0625 -0.0625]]\n",
      "[[-0.0625 -0.0625 -0.0625 ... -0.0625 -0.0625 -0.0625]\n",
      " [-0.0625 -0.0625 -0.0625 ... -0.0625 -0.0625 -0.0625]\n",
      " [-0.0625 -0.0625 -0.0625 ... -0.0625 -0.0625 -0.0625]\n",
      " ...\n",
      " [-0.0625 -0.0625 -0.0625 ... -0.0625 -0.0625 -0.0625]\n",
      " [-0.0625 -0.0625 -0.0625 ... -0.0625 -0.0625 -0.0625]\n",
      " [-0.0625 -0.0625 -0.0625 ... -0.0625 -0.0625 -0.0625]]\n",
      "[[-0.0625 -0.0625 -0.0625 ... -0.0625 -0.0625 -0.0625]\n",
      " [-0.0625 -0.0625 -0.0625 ... -0.0625 -0.0625 -0.0625]\n",
      " [-0.0625 -0.0625 -0.0625 ... -0.0625 -0.0625 -0.0625]\n",
      " ...\n",
      " [-0.0625 -0.0625 -0.0625 ... -0.0625 -0.0625 -0.0625]\n",
      " [-0.0625 -0.0625 -0.0625 ... -0.0625 -0.0625 -0.0625]\n",
      " [-0.0625 -0.0625 -0.0625 ... -0.0625 -0.0625 -0.0625]]\n",
      "[[-0.0625 -0.0625 -0.0625 ... -0.0625 -0.0625 -0.0625]\n",
      " [-0.0625 -0.0625 -0.0625 ... -0.0625 -0.0625 -0.0625]\n",
      " [-0.0625 -0.0625 -0.0625 ... -0.0625 -0.0625 -0.0625]\n",
      " ...\n",
      " [-0.0625 -0.0625 -0.0625 ... -0.0625 -0.0625 -0.0625]\n",
      " [-0.0625 -0.0625 -0.0625 ... -0.0625 -0.0625 -0.0625]\n",
      " [-0.0625 -0.0625 -0.0625 ... -0.0625 -0.0625 -0.0625]]\n",
      "[[-0.0625 -0.0625 -0.0625 ... -0.0625 -0.0625 -0.0625]\n",
      " [-0.0625 -0.0625 -0.0625 ... -0.0625 -0.0625 -0.0625]\n",
      " [-0.0625 -0.0625 -0.0625 ... -0.0625 -0.0625 -0.0625]\n",
      " ...\n",
      " [-0.0625 -0.0625 -0.0625 ... -0.0625 -0.0625 -0.0625]\n",
      " [-0.0625 -0.0625 -0.0625 ... -0.0625 -0.0625 -0.0625]\n",
      " [-0.0625 -0.0625 -0.0625 ... -0.0625 -0.0625 -0.0625]]\n",
      "[[-0.0625 -0.0625 -0.0625 ... -0.0625 -0.0625 -0.0625]\n",
      " [-0.0625 -0.0625 -0.0625 ... -0.0625 -0.0625 -0.0625]\n",
      " [-0.0625 -0.0625 -0.0625 ... -0.0625 -0.0625 -0.0625]\n",
      " ...\n",
      " [-0.0625 -0.0625 -0.0625 ... -0.0625 -0.0625 -0.0625]\n",
      " [-0.0625 -0.0625 -0.0625 ... -0.0625 -0.0625 -0.0625]\n",
      " [-0.0625 -0.0625 -0.0625 ... -0.0625 -0.0625 -0.0625]]\n",
      "[[-0.0625 -0.0625 -0.0625 ... -0.0625 -0.0625 -0.0625]\n",
      " [-0.0625 -0.0625 -0.0625 ... -0.0625 -0.0625 -0.0625]\n",
      " [-0.0625 -0.0625 -0.0625 ... -0.0625 -0.0625 -0.0625]\n",
      " ...\n",
      " [-0.0625 -0.0625 -0.0625 ... -0.0625 -0.0625 -0.0625]\n",
      " [-0.0625 -0.0625 -0.0625 ... -0.0625 -0.0625 -0.0625]\n",
      " [-0.0625 -0.0625 -0.0625 ... -0.0625 -0.0625 -0.0625]]\n",
      "[[-0.0625 -0.0625 -0.0625 ... -0.0625 -0.0625 -0.0625]\n",
      " [-0.0625 -0.0625 -0.0625 ... -0.0625 -0.0625 -0.0625]\n",
      " [-0.0625 -0.0625 -0.0625 ... -0.0625 -0.0625 -0.0625]\n",
      " ...\n",
      " [-0.0625 -0.0625 -0.0625 ... -0.0625 -0.0625 -0.0625]\n",
      " [-0.0625 -0.0625 -0.0625 ... -0.0625 -0.0625 -0.0625]\n",
      " [-0.0625 -0.0625 -0.0625 ... -0.0625 -0.0625 -0.0625]]\n",
      "[[-0.0625 -0.0625 -0.0625 ... -0.0625 -0.0625 -0.0625]\n",
      " [-0.0625 -0.0625 -0.0625 ... -0.0625 -0.0625 -0.0625]\n",
      " [-0.0625 -0.0625 -0.0625 ... -0.0625 -0.0625 -0.0625]\n",
      " ...\n",
      " [-0.0625 -0.0625 -0.0625 ... -0.0625 -0.0625 -0.0625]\n",
      " [-0.0625 -0.0625 -0.0625 ... -0.0625 -0.0625 -0.0625]\n",
      " [-0.0625 -0.0625 -0.0625 ... -0.0625 -0.0625 -0.0625]]\n",
      "[[-0.0625 -0.0625 -0.0625 ... -0.0625 -0.0625 -0.0625]\n",
      " [-0.0625 -0.0625 -0.0625 ... -0.0625 -0.0625 -0.0625]\n",
      " [-0.0625 -0.0625 -0.0625 ... -0.0625 -0.0625 -0.0625]\n",
      " ...\n",
      " [-0.0625 -0.0625 -0.0625 ... -0.0625 -0.0625 -0.0625]\n",
      " [-0.0625 -0.0625 -0.0625 ... -0.0625 -0.0625 -0.0625]\n",
      " [-0.0625 -0.0625 -0.0625 ... -0.0625 -0.0625 -0.0625]]\n",
      "[[-0.0625 -0.0625 -0.0625 ... -0.0625 -0.0625 -0.0625]\n",
      " [-0.0625 -0.0625 -0.0625 ... -0.0625 -0.0625 -0.0625]\n",
      " [-0.0625 -0.0625 -0.0625 ... -0.0625 -0.0625 -0.0625]\n",
      " ...\n",
      " [-0.0625 -0.0625 -0.0625 ... -0.0625 -0.0625 -0.0625]\n",
      " [-0.0625 -0.0625 -0.0625 ... -0.0625 -0.0625 -0.0625]\n",
      " [-0.0625 -0.0625 -0.0625 ... -0.0625 -0.0625 -0.0625]]\n",
      "[[-0.0625 -0.0625 -0.0625 ... -0.0625 -0.0625 -0.0625]\n",
      " [-0.0625 -0.0625 -0.0625 ... -0.0625 -0.0625 -0.0625]\n",
      " [-0.0625 -0.0625 -0.0625 ... -0.0625 -0.0625 -0.0625]\n",
      " ...\n",
      " [-0.0625 -0.0625 -0.0625 ... -0.0625 -0.0625 -0.0625]\n",
      " [-0.0625 -0.0625 -0.0625 ... -0.0625 -0.0625 -0.0625]\n",
      " [-0.0625 -0.0625 -0.0625 ... -0.0625 -0.0625 -0.0625]]\n",
      "[[-0.0625 -0.0625 -0.0625 ... -0.0625 -0.0625 -0.0625]\n",
      " [-0.0625 -0.0625 -0.0625 ... -0.0625 -0.0625 -0.0625]\n",
      " [-0.0625 -0.0625 -0.0625 ... -0.0625 -0.0625 -0.0625]\n",
      " ...\n",
      " [-0.0625 -0.0625 -0.0625 ... -0.0625 -0.0625 -0.0625]\n",
      " [-0.0625 -0.0625 -0.0625 ... -0.0625 -0.0625 -0.0625]\n",
      " [-0.0625 -0.0625 -0.0625 ... -0.0625 -0.0625 -0.0625]]\n",
      "[[-0.0625 -0.0625 -0.0625 ... -0.0625 -0.0625 -0.0625]\n",
      " [-0.0625 -0.0625 -0.0625 ... -0.0625 -0.0625 -0.0625]\n",
      " [-0.0625 -0.0625 -0.0625 ... -0.0625 -0.0625 -0.0625]\n",
      " ...\n",
      " [-0.0625 -0.0625 -0.0625 ... -0.0625 -0.0625 -0.0625]\n",
      " [-0.0625 -0.0625 -0.0625 ... -0.0625 -0.0625 -0.0625]\n",
      " [-0.0625 -0.0625 -0.0625 ... -0.0625 -0.0625 -0.0625]]\n",
      "[[-0.0625 -0.0625 -0.0625 ... -0.0625 -0.0625 -0.0625]\n",
      " [-0.0625 -0.0625 -0.0625 ... -0.0625 -0.0625 -0.0625]\n",
      " [-0.0625 -0.0625 -0.0625 ... -0.0625 -0.0625 -0.0625]\n",
      " ...\n",
      " [-0.0625 -0.0625 -0.0625 ... -0.0625 -0.0625 -0.0625]\n",
      " [-0.0625 -0.0625 -0.0625 ... -0.0625 -0.0625 -0.0625]\n",
      " [-0.0625 -0.0625 -0.0625 ... -0.0625 -0.0625 -0.0625]]\n",
      "[[-0.0625 -0.0625 -0.0625 ... -0.0625 -0.0625 -0.0625]\n",
      " [-0.0625 -0.0625 -0.0625 ... -0.0625 -0.0625 -0.0625]\n",
      " [-0.0625 -0.0625 -0.0625 ... -0.0625 -0.0625 -0.0625]\n",
      " ...\n",
      " [-0.0625 -0.0625 -0.0625 ... -0.0625 -0.0625 -0.0625]\n",
      " [-0.0625 -0.0625 -0.0625 ... -0.0625 -0.0625 -0.0625]\n",
      " [-0.0625 -0.0625 -0.0625 ... -0.0625 -0.0625 -0.0625]]\n",
      "[[-0.0625 -0.0625 -0.0625 ... -0.0625 -0.0625 -0.0625]\n",
      " [-0.0625 -0.0625 -0.0625 ... -0.0625 -0.0625 -0.0625]\n",
      " [-0.0625 -0.0625 -0.0625 ... -0.0625 -0.0625 -0.0625]\n",
      " ...\n",
      " [-0.0625 -0.0625 -0.0625 ... -0.0625 -0.0625 -0.0625]\n",
      " [-0.0625 -0.0625 -0.0625 ... -0.0625 -0.0625 -0.0625]\n",
      " [-0.0625 -0.0625 -0.0625 ... -0.0625 -0.0625 -0.0625]]\n",
      "[[-0.0625 -0.0625 -0.0625 ... -0.0625 -0.0625 -0.0625]\n",
      " [-0.0625 -0.0625 -0.0625 ... -0.0625 -0.0625 -0.0625]\n",
      " [-0.0625 -0.0625 -0.0625 ... -0.0625 -0.0625 -0.0625]\n",
      " ...\n",
      " [-0.0625 -0.0625 -0.0625 ... -0.0625 -0.0625 -0.0625]\n",
      " [-0.0625 -0.0625 -0.0625 ... -0.0625 -0.0625 -0.0625]\n",
      " [-0.0625 -0.0625 -0.0625 ... -0.0625 -0.0625 -0.0625]]\n",
      "[[-0.0625 -0.0625 -0.0625 ... -0.0625 -0.0625 -0.0625]\n",
      " [-0.0625 -0.0625 -0.0625 ... -0.0625 -0.0625 -0.0625]\n",
      " [-0.0625 -0.0625 -0.0625 ... -0.0625 -0.0625 -0.0625]\n",
      " ...\n",
      " [-0.0625 -0.0625 -0.0625 ... -0.0625 -0.0625 -0.0625]\n",
      " [-0.0625 -0.0625 -0.0625 ... -0.0625 -0.0625 -0.0625]\n",
      " [-0.0625 -0.0625 -0.0625 ... -0.0625 -0.0625 -0.0625]]\n"
     ]
    }
   ],
   "source": [
    "import numpy as np \n",
    "import cv2\n",
    "\n",
    "# Check for left and right camera IDs\n",
    "# These values can change depending on the system\n",
    "CamL_id = 1 # Camera ID for left camera\n",
    "CamR_id = 0 # Camera ID for right camera\n",
    "\n",
    "CamL= cv2.VideoCapture(CamL_id)\n",
    "CamR= cv2.VideoCapture(CamR_id)\n",
    "\n",
    "# Reading the mapping values for stereo image rectification\n",
    "cv_file = cv2.FileStorage(\"D:/8 th semester/computer vision/cvlab/LAB-3/stereo_rectify_maps.xml\", cv2.FILE_STORAGE_READ)\n",
    "Left_Stereo_Map_x = cv_file.getNode(\"Left_Stereo_Map_x\").mat()\n",
    "Left_Stereo_Map_y = cv_file.getNode(\"Left_Stereo_Map_y\").mat()\n",
    "Right_Stereo_Map_x = cv_file.getNode(\"Right_Stereo_Map_x\").mat()\n",
    "Right_Stereo_Map_y = cv_file.getNode(\"Right_Stereo_Map_y\").mat()\n",
    "cv_file.release()\n",
    "\n",
    "def nothing(x):\n",
    "    pass\n",
    "\n",
    "cv2.namedWindow('disp',cv2.WINDOW_NORMAL)\n",
    "cv2.resizeWindow('disp',600,600)\n",
    "\n",
    "cv2.createTrackbar('numDisparities','disp',1,17,nothing)\n",
    "cv2.createTrackbar('blockSize','disp',5,50,nothing)\n",
    "cv2.createTrackbar('preFilterType','disp',1,1,nothing)\n",
    "cv2.createTrackbar('preFilterSize','disp',2,25,nothing)\n",
    "cv2.createTrackbar('preFilterCap','disp',5,62,nothing)\n",
    "cv2.createTrackbar('textureThreshold','disp',10,100,nothing)\n",
    "cv2.createTrackbar('uniquenessRatio','disp',15,100,nothing)\n",
    "cv2.createTrackbar('speckleRange','disp',0,100,nothing)\n",
    "cv2.createTrackbar('speckleWindowSize','disp',3,25,nothing)\n",
    "cv2.createTrackbar('disp12MaxDiff','disp',5,25,nothing)\n",
    "cv2.createTrackbar('minDisparity','disp',5,25,nothing)\n",
    "\n",
    "# Creating an object of StereoBM algorithm\n",
    "stereo = cv2.StereoBM_create()\n",
    "\n",
    "while True:\n",
    "\n",
    "\t# Capturing and storing left and right camera images\n",
    "\tretL, imgL= CamL.read()\n",
    "\tretR, imgR= CamR.read()\n",
    "\t\n",
    "\t# Proceed only if the frames have been captured\n",
    "\tif retL and retR:\n",
    "\t\timgR_gray = cv2.cvtColor(imgR,cv2.COLOR_BGR2GRAY)\n",
    "\t\timgL_gray = cv2.cvtColor(imgL,cv2.COLOR_BGR2GRAY)\n",
    "\n",
    "\t\t# Applying stereo image rectification on the left image\n",
    "\t\tLeft_nice= cv2.remap(imgL_gray,\n",
    "\t\t\t\t\t\t\tLeft_Stereo_Map_x,\n",
    "\t\t\t\t\t\t\tLeft_Stereo_Map_y,\n",
    "\t\t\t\t\t\t\tcv2.INTER_LANCZOS4,\n",
    "\t\t\t\t\t\t\tcv2.BORDER_CONSTANT,\n",
    "\t\t\t\t\t\t\t0)\n",
    "\t\t\n",
    "\t\t# Applying stereo image rectification on the right image\n",
    "\t\tRight_nice= cv2.remap(imgR_gray,\n",
    "\t\t\t\t\t\t\tRight_Stereo_Map_x,\n",
    "\t\t\t\t\t\t\tRight_Stereo_Map_y,\n",
    "\t\t\t\t\t\t\tcv2.INTER_LANCZOS4,\n",
    "\t\t\t\t\t\t\tcv2.BORDER_CONSTANT,\n",
    "\t\t\t\t\t\t\t0)\n",
    "\n",
    "\t\t# Updating the parameters based on the trackbar positions\n",
    "\t\tnumDisparities = cv2.getTrackbarPos('numDisparities','disp')*16\n",
    "\t\tblockSize = cv2.getTrackbarPos('blockSize','disp')*2 + 5\n",
    "\t\tpreFilterType = cv2.getTrackbarPos('preFilterType','disp')\n",
    "\t\tpreFilterSize = cv2.getTrackbarPos('preFilterSize','disp')*2 + 5\n",
    "\t\tpreFilterCap = cv2.getTrackbarPos('preFilterCap','disp')\n",
    "\t\ttextureThreshold = cv2.getTrackbarPos('textureThreshold','disp')\n",
    "\t\tuniquenessRatio = cv2.getTrackbarPos('uniquenessRatio','disp')\n",
    "\t\tspeckleRange = cv2.getTrackbarPos('speckleRange','disp')\n",
    "\t\tspeckleWindowSize = cv2.getTrackbarPos('speckleWindowSize','disp')*2\n",
    "\t\tdisp12MaxDiff = cv2.getTrackbarPos('disp12MaxDiff','disp')\n",
    "\t\tminDisparity = cv2.getTrackbarPos('minDisparity','disp')\n",
    "\t\t\n",
    "\t\t# Setting the updated parameters before computing disparity map\n",
    "\t\tstereo.setNumDisparities(numDisparities)\n",
    "\t\tstereo.setBlockSize(blockSize)\n",
    "\t\tstereo.setPreFilterType(preFilterType)\n",
    "\t\tstereo.setPreFilterSize(preFilterSize)\n",
    "\t\tstereo.setPreFilterCap(preFilterCap)\n",
    "\t\tstereo.setTextureThreshold(textureThreshold)\n",
    "\t\tstereo.setUniquenessRatio(uniquenessRatio)\n",
    "\t\tstereo.setSpeckleRange(speckleRange)\n",
    "\t\tstereo.setSpeckleWindowSize(speckleWindowSize)\n",
    "\t\tstereo.setDisp12MaxDiff(disp12MaxDiff)\n",
    "\t\tstereo.setMinDisparity(minDisparity)\n",
    "\n",
    "\t\t# Calculating disparity using the StereoBM algorithm\n",
    "\t\tdisparity = stereo.compute(Left_nice,Right_nice)\n",
    "\t\t# NOTE: Code returns a 16bit signed single channel image,\n",
    "\t\t# CV_16S containing a disparity map scaled by 16. Hence it \n",
    "\t\t# is essential to convert it to CV_32F and scale it down 16 times.\n",
    "\n",
    "\t\t# Converting to float32 \n",
    "\t\tdisparity = disparity.astype(np.float32)\n",
    "\n",
    "\t\t# Scaling down the disparity values and normalizing them \n",
    "\t\tdisparity = (disparity/16.0 - minDisparity)/numDisparities\n",
    "\n",
    "\t\tprint(disparity)\n",
    "\n",
    "\t\t# Displaying the disparity map\n",
    "\t\tcv2.imshow(\"disp\",disparity)\n",
    "\n",
    "\t\t# Close window using esc key\n",
    "\t\tif cv2.waitKey(1) == 27:\n",
    "\t\t\tCamL.release()\n",
    "\t\t\tCamR.release()\n",
    "\t\t\tcv2.destroyAllWindows()\n",
    "\t\t\tbreak\n",
    "\t\n",
    "\telse:\n",
    "\t\tCamL= cv2.VideoCapture(CamL_id)\n",
    "\t\tCamR= cv2.VideoCapture(CamR_id)"
   ]
  },
  {
   "cell_type": "code",
   "execution_count": 7,
   "metadata": {},
   "outputs": [
    {
     "name": "stdout",
     "output_type": "stream",
     "text": [
      "55.315000000000005\n"
     ]
    }
   ],
   "source": [
    "B=5\n",
    "f=11.063\n",
    "\n",
    "M=B*f\n",
    "\n",
    "print(M)\n"
   ]
  },
  {
   "cell_type": "code",
   "execution_count": 8,
   "metadata": {},
   "outputs": [
    {
     "data": {
      "text/plain": [
       "array([[-0.0625, -0.0625, -0.0625, ..., -0.0625, -0.0625, -0.0625],\n",
       "       [-0.0625, -0.0625, -0.0625, ..., -0.0625, -0.0625, -0.0625],\n",
       "       [-0.0625, -0.0625, -0.0625, ..., -0.0625, -0.0625, -0.0625],\n",
       "       ...,\n",
       "       [-0.0625, -0.0625, -0.0625, ..., -0.0625, -0.0625, -0.0625],\n",
       "       [-0.0625, -0.0625, -0.0625, ..., -0.0625, -0.0625, -0.0625],\n",
       "       [-0.0625, -0.0625, -0.0625, ..., -0.0625, -0.0625, -0.0625]],\n",
       "      dtype=float32)"
      ]
     },
     "execution_count": 8,
     "metadata": {},
     "output_type": "execute_result"
    }
   ],
   "source": [
    "disparity"
   ]
  },
  {
   "cell_type": "code",
   "execution_count": 9,
   "metadata": {},
   "outputs": [
    {
     "name": "stderr",
     "output_type": "stream",
     "text": [
      "d:\\8 th semester\\computer vision\\cvlab\\cvlabenv\\lib\\site-packages\\ipykernel_launcher.py:1: RuntimeWarning: divide by zero encountered in true_divide\n",
      "  \"\"\"Entry point for launching an IPython kernel.\n"
     ]
    }
   ],
   "source": [
    "depth_map=M/disparity"
   ]
  },
  {
   "cell_type": "code",
   "execution_count": 10,
   "metadata": {},
   "outputs": [
    {
     "data": {
      "text/plain": [
       "array([[-885.04, -885.04, -885.04, ..., -885.04, -885.04, -885.04],\n",
       "       [-885.04, -885.04, -885.04, ..., -885.04, -885.04, -885.04],\n",
       "       [-885.04, -885.04, -885.04, ..., -885.04, -885.04, -885.04],\n",
       "       ...,\n",
       "       [-885.04, -885.04, -885.04, ..., -885.04, -885.04, -885.04],\n",
       "       [-885.04, -885.04, -885.04, ..., -885.04, -885.04, -885.04],\n",
       "       [-885.04, -885.04, -885.04, ..., -885.04, -885.04, -885.04]],\n",
       "      dtype=float32)"
      ]
     },
     "execution_count": 10,
     "metadata": {},
     "output_type": "execute_result"
    }
   ],
   "source": [
    "depth_map"
   ]
  },
  {
   "cell_type": "markdown",
   "metadata": {},
   "source": [
    "New Code"
   ]
  },
  {
   "cell_type": "code",
   "execution_count": 11,
   "metadata": {},
   "outputs": [
    {
     "name": "stdout",
     "output_type": "stream",
     "text": [
      "Saving depth estimation paraeters ......\n"
     ]
    }
   ],
   "source": [
    "import numpy as np \n",
    "import cv2\n",
    "\n",
    "\n",
    "# Check for left and right camera IDs\n",
    "# These values can change depending on the system\n",
    "CamL_id = 1 # Camera ID for left camera\n",
    "CamR_id = 0 # Camera ID for right camera\n",
    "\n",
    "CamL= cv2.VideoCapture(CamL_id)\n",
    "CamR= cv2.VideoCapture(CamR_id)\n",
    "\n",
    "# Reading the mapping values for stereo image rectification\n",
    "cv_file = cv2.FileStorage(\"D:/8 th semester/computer vision/cvlab/LAB-3/stereo_rectify_maps.xml\", cv2.FILE_STORAGE_READ)\n",
    "Left_Stereo_Map_x = cv_file.getNode(\"Left_Stereo_Map_x\").mat()\n",
    "Left_Stereo_Map_y = cv_file.getNode(\"Left_Stereo_Map_y\").mat()\n",
    "Right_Stereo_Map_x = cv_file.getNode(\"Right_Stereo_Map_x\").mat()\n",
    "Right_Stereo_Map_y = cv_file.getNode(\"Right_Stereo_Map_y\").mat()\n",
    "cv_file.release()\n",
    "\n",
    "def nothing(x):\n",
    "    pass\n",
    "\n",
    "cv2.namedWindow('disp',cv2.WINDOW_NORMAL)\n",
    "cv2.resizeWindow('disp',600,600)\n",
    "\n",
    "cv2.createTrackbar('numDisparities','disp',1,17,nothing)\n",
    "cv2.createTrackbar('blockSize','disp',5,50,nothing)\n",
    "cv2.createTrackbar('preFilterType','disp',1,1,nothing)\n",
    "cv2.createTrackbar('preFilterSize','disp',2,25,nothing)\n",
    "cv2.createTrackbar('preFilterCap','disp',5,62,nothing)\n",
    "cv2.createTrackbar('textureThreshold','disp',10,100,nothing)\n",
    "cv2.createTrackbar('uniquenessRatio','disp',15,100,nothing)\n",
    "cv2.createTrackbar('speckleRange','disp',0,100,nothing)\n",
    "cv2.createTrackbar('speckleWindowSize','disp',3,25,nothing)\n",
    "cv2.createTrackbar('disp12MaxDiff','disp',5,25,nothing)\n",
    "cv2.createTrackbar('minDisparity','disp',5,25,nothing)\n",
    "\n",
    "# Creating an object of StereoBM algorithm\n",
    "stereo = cv2.StereoBM_create()\n",
    "\n",
    "while True:\n",
    "\n",
    "\t# Capturing and storing left and right camera images\n",
    "\tretL, imgL= CamL.read()\n",
    "\tretR, imgR= CamR.read()\n",
    "\t\n",
    "\t# Proceed only if the frames have been captured\n",
    "\tif retL and retR:\n",
    "\t\timgR_gray = cv2.cvtColor(imgR,cv2.COLOR_BGR2GRAY)\n",
    "\t\timgL_gray = cv2.cvtColor(imgL,cv2.COLOR_BGR2GRAY)\n",
    "\n",
    "\t\t# Applying stereo image rectification on the left image\n",
    "\t\tLeft_nice= cv2.remap(imgL_gray,\n",
    "\t\t\t\t\t\t\tLeft_Stereo_Map_x,\n",
    "\t\t\t\t\t\t\tLeft_Stereo_Map_y,\n",
    "\t\t\t\t\t\t\tcv2.INTER_LANCZOS4,\n",
    "\t\t\t\t\t\t\tcv2.BORDER_CONSTANT,\n",
    "\t\t\t\t\t\t\t0)\n",
    "\t\t\n",
    "\t\t# Applying stereo image rectification on the right image\n",
    "\t\tRight_nice= cv2.remap(imgR_gray,\n",
    "\t\t\t\t\t\t\tRight_Stereo_Map_x,\n",
    "\t\t\t\t\t\t\tRight_Stereo_Map_y,\n",
    "\t\t\t\t\t\t\tcv2.INTER_LANCZOS4,\n",
    "\t\t\t\t\t\t\tcv2.BORDER_CONSTANT,\n",
    "\t\t\t\t\t\t\t0)\n",
    "\n",
    "\t\t# Updating the parameters based on the trackbar positions\n",
    "\t\tnumDisparities = cv2.getTrackbarPos('numDisparities','disp')*16\n",
    "\t\tblockSize = cv2.getTrackbarPos('blockSize','disp')*2 + 5\n",
    "\t\tpreFilterType = cv2.getTrackbarPos('preFilterType','disp')\n",
    "\t\tpreFilterSize = cv2.getTrackbarPos('preFilterSize','disp')*2 + 5\n",
    "\t\tpreFilterCap = cv2.getTrackbarPos('preFilterCap','disp')\n",
    "\t\ttextureThreshold = cv2.getTrackbarPos('textureThreshold','disp')\n",
    "\t\tuniquenessRatio = cv2.getTrackbarPos('uniquenessRatio','disp')\n",
    "\t\tspeckleRange = cv2.getTrackbarPos('speckleRange','disp')\n",
    "\t\tspeckleWindowSize = cv2.getTrackbarPos('speckleWindowSize','disp')*2\n",
    "\t\tdisp12MaxDiff = cv2.getTrackbarPos('disp12MaxDiff','disp')\n",
    "\t\tminDisparity = cv2.getTrackbarPos('minDisparity','disp')\n",
    "\t\t\n",
    "\t\t# Setting the updated parameters before computing disparity map\n",
    "\t\tstereo.setNumDisparities(numDisparities)\n",
    "\t\tstereo.setBlockSize(blockSize)\n",
    "\t\tstereo.setPreFilterType(preFilterType)\n",
    "\t\tstereo.setPreFilterSize(preFilterSize)\n",
    "\t\tstereo.setPreFilterCap(preFilterCap)\n",
    "\t\tstereo.setTextureThreshold(textureThreshold)\n",
    "\t\tstereo.setUniquenessRatio(uniquenessRatio)\n",
    "\t\tstereo.setSpeckleRange(speckleRange)\n",
    "\t\tstereo.setSpeckleWindowSize(speckleWindowSize)\n",
    "\t\tstereo.setDisp12MaxDiff(disp12MaxDiff)\n",
    "\t\tstereo.setMinDisparity(minDisparity)\n",
    "\n",
    "\t\t# Calculating disparity using the StereoBM algorithm\n",
    "\t\tdisparity = stereo.compute(Left_nice,Right_nice)\n",
    "\t\t# NOTE: compute returns a 16bit signed single channel image,\n",
    "\t\t# CV_16S containing a disparity map scaled by 16. Hence it \n",
    "\t\t# is essential to convert it to CV_32F and scale it down 16 times.\n",
    "\n",
    "\t\t# Converting to float32 \n",
    "\t\tdisparity = disparity.astype(np.float32)\n",
    "\n",
    "\t\t# Scaling down the disparity values and normalizing them \n",
    "\t\tdisparity = (disparity/16.0 - minDisparity)/numDisparities\n",
    "\n",
    "\t\t# Displaying the disparity map\n",
    "\t\tcv2.imshow(\"disp\",disparity)\n",
    "\n",
    "\t\t# Close window using esc key\n",
    "\t\tif cv2.waitKey(1) == 27:\n",
    "\t\t\tCamL.release()\n",
    "\t\t\tCamR.release()\n",
    "\t\t\tcv2.destroyAllWindows()\n",
    "\t\t\tbreak\n",
    "\t\n",
    "\telse:\n",
    "\t\tCamL= cv2.VideoCapture(CamL_id)\n",
    "\t\tCamR= cv2.VideoCapture(CamR_id)\n",
    "\n",
    "print(\"Saving depth estimation paraeters ......\")\n",
    "\n",
    "cv_file = cv2.FileStorage(\"depth_estmation_params_py.xml\", cv2.FILE_STORAGE_WRITE)\n",
    "cv_file.write(\"numDisparities\",numDisparities)\n",
    "cv_file.write(\"blockSize\",blockSize)\n",
    "cv_file.write(\"preFilterType\",preFilterType)\n",
    "cv_file.write(\"preFilterSize\",preFilterSize)\n",
    "cv_file.write(\"preFilterCap\",preFilterCap)\n",
    "cv_file.write(\"textureThreshold\",textureThreshold)\n",
    "cv_file.write(\"uniquenessRatio\",uniquenessRatio)\n",
    "cv_file.write(\"speckleRange\",speckleRange)\n",
    "cv_file.write(\"speckleWindowSize\",speckleWindowSize)\n",
    "cv_file.write(\"disp12MaxDiff\",disp12MaxDiff)\n",
    "cv_file.write(\"minDisparity\",minDisparity)\n",
    "cv_file.write(\"M\",55.315)\n",
    "cv_file.release()"
   ]
  },
  {
   "cell_type": "markdown",
   "metadata": {},
   "source": [
    "Depth"
   ]
  },
  {
   "cell_type": "code",
   "execution_count": 14,
   "metadata": {},
   "outputs": [
    {
     "name": "stderr",
     "output_type": "stream",
     "text": [
      "d:\\8 th semester\\computer vision\\cvlab\\cvlabenv\\lib\\site-packages\\ipykernel_launcher.py:148: RuntimeWarning: divide by zero encountered in true_divide\n"
     ]
    }
   ],
   "source": [
    "import numpy as np \n",
    "import cv2\n",
    "\n",
    "\n",
    "# Check for left and right camera IDs\n",
    "# These values can change depending on the system\n",
    "CamL_id = 1 # Camera ID for left camera\n",
    "CamR_id = 0 # Camera ID for right camera\n",
    "\n",
    "\n",
    "CamL= cv2.VideoCapture(CamL_id)\n",
    "CamR= cv2.VideoCapture(CamR_id)\n",
    "\n",
    "# Reading the mapping values for stereo image rectification\n",
    "cv_file = cv2.FileStorage(\"./stereo_rectify_maps.xml\", cv2.FILE_STORAGE_READ)\n",
    "Left_Stereo_Map_x = cv_file.getNode(\"Left_Stereo_Map_x\").mat()\n",
    "Left_Stereo_Map_y = cv_file.getNode(\"Left_Stereo_Map_y\").mat()\n",
    "Right_Stereo_Map_x = cv_file.getNode(\"Right_Stereo_Map_x\").mat()\n",
    "Right_Stereo_Map_y = cv_file.getNode(\"Right_Stereo_Map_y\").mat()\n",
    "cv_file.release()\n",
    "\n",
    "disparity = None\n",
    "depth_map = None\n",
    "\n",
    "# These parameters can vary according to the setup\n",
    "max_depth = 400 # maximum distance the setup can measure (in cm)\n",
    "min_depth = 50 # minimum distance the setup can measure (in cm)\n",
    "depth_thresh = 100.0 # Threshold for SAFE distance (in cm)\n",
    "\n",
    "# Reading the stored the StereoBM parameters\n",
    "cv_file = cv2.FileStorage(\"./depth_estmation_params_py.xml\", cv2.FILE_STORAGE_READ)\n",
    "numDisparities = int(cv_file.getNode(\"numDisparities\").real())\n",
    "blockSize = int(cv_file.getNode(\"blockSize\").real())\n",
    "preFilterType = int(cv_file.getNode(\"preFilterType\").real())\n",
    "preFilterSize = int(cv_file.getNode(\"preFilterSize\").real())\n",
    "preFilterCap = int(cv_file.getNode(\"preFilterCap\").real())\n",
    "textureThreshold = int(cv_file.getNode(\"textureThreshold\").real())\n",
    "uniquenessRatio = int(cv_file.getNode(\"uniquenessRatio\").real())\n",
    "speckleRange = int(cv_file.getNode(\"speckleRange\").real())\n",
    "speckleWindowSize = int(cv_file.getNode(\"speckleWindowSize\").real())\n",
    "disp12MaxDiff = int(cv_file.getNode(\"disp12MaxDiff\").real())\n",
    "minDisparity = int(cv_file.getNode(\"minDisparity\").real())\n",
    "M = cv_file.getNode(\"M\").real()\n",
    "cv_file.release()\n",
    "\n",
    "# mouse callback function\n",
    "def mouse_click(event,x,y,flags,param):\n",
    "\tglobal Z\n",
    "\tif event == cv2.EVENT_LBUTTONDBLCLK:\n",
    "\t\tprint(\"Distance = %.2f cm\"%depth_map[y,x])\t\n",
    "\n",
    "\n",
    "cv2.namedWindow('disp',cv2.WINDOW_NORMAL)\n",
    "cv2.resizeWindow('disp',600,600)\n",
    "cv2.setMouseCallback('disp',mouse_click)\n",
    "\n",
    "output_canvas = None\n",
    "\n",
    "# Creating an object of StereoBM algorithm\n",
    "stereo = cv2.StereoBM_create()\n",
    "\n",
    "def obstacle_avoid():\n",
    "\n",
    "\t# Mask to segment regions with depth less than threshold\n",
    "\tmask = cv2.inRange(depth_map,10,depth_thresh)\n",
    "\n",
    "\t# Check if a significantly large obstacle is present and filter out smaller noisy regions\n",
    "\tif True:\n",
    "\n",
    "\t\t# Contour detection \n",
    "\t\tcontours, _ = cv2.findContours(mask, cv2.RETR_TREE, cv2.CHAIN_APPROX_SIMPLE)\n",
    "\t\tcnts = sorted(contours, key=cv2.contourArea, reverse=True)\n",
    "\t\t\n",
    "\t\t# Check if detected contour is significantly large (to avoid multiple tiny regions)\n",
    "\t\tif cv2.contourArea(cnts[0]) > 0.01*mask.shape[0]*mask.shape[1]:\n",
    "\n",
    "\t\t\tx,y,w,h = cv2.boundingRect(cnts[0])\n",
    "\n",
    "\t\t\t# finding average depth of region represented by the largest contour \n",
    "\t\t\tmask2 = np.zeros_like(mask)\n",
    "\t\t\tcv2.drawContours(mask2, cnts, 0, (255), -1)\n",
    "\n",
    "\t\t\t# Calculating the average depth of the object closer than the safe distance\n",
    "\t\t\tdepth_mean, _ = cv2.meanStdDev(depth_map, mask=mask2)\n",
    "\t\t\t\n",
    "\t\t\t# Display warning text\n",
    "\t\t\tcv2.putText(output_canvas, \"WARNING !\", (x+5,y-40), 1, 2, (0,0,255), 2, 2)\n",
    "\t\t\tcv2.putText(output_canvas, \"Object at\", (x+5,y), 1, 2, (100,10,25), 2, 2)\n",
    "\t\t\tcv2.putText(output_canvas, \"%.2f cm\"%depth_mean, (x+5,y+40), 1, 2, (100,10,25), 2, 2)\n",
    "\n",
    "\telse:\n",
    "\t\tcv2.putText(output_canvas, \"SAFE!\", (100,100),1,3,(0,255,0),2,3)\n",
    "\n",
    "\tcv2.imshow('output_canvas',output_canvas)\n",
    "\n",
    "while True:\n",
    "\tretR, imgR= CamR.read()\n",
    "\tretL, imgL= CamL.read()\n",
    "\t\n",
    "\tif retL and retR:\n",
    "\t\t\n",
    "\t\toutput_canvas = imgL.copy()\n",
    "\n",
    "\t\timgR_gray = cv2.cvtColor(imgR,cv2.COLOR_BGR2GRAY)\n",
    "\t\timgL_gray = cv2.cvtColor(imgL,cv2.COLOR_BGR2GRAY)\n",
    "\n",
    "\t\t# Applying stereo image rectification on the left image\n",
    "\t\tLeft_nice= cv2.remap(imgL_gray,\n",
    "\t\t\t\t\t\t\tLeft_Stereo_Map_x,\n",
    "\t\t\t\t\t\t\tLeft_Stereo_Map_y,\n",
    "\t\t\t\t\t\t\tcv2.INTER_LANCZOS4,\n",
    "\t\t\t\t\t\t\tcv2.BORDER_CONSTANT,\n",
    "\t\t\t\t\t\t\t0)\n",
    "\t\t\n",
    "\t\t# Applying stereo image rectification on the right image\n",
    "\t\tRight_nice= cv2.remap(imgR_gray,\n",
    "\t\t\t\t\t\t\tRight_Stereo_Map_x,\n",
    "\t\t\t\t\t\t\tRight_Stereo_Map_y,\n",
    "\t\t\t\t\t\t\tcv2.INTER_LANCZOS4,\n",
    "\t\t\t\t\t\t\tcv2.BORDER_CONSTANT,\n",
    "\t\t\t\t\t\t\t0)\n",
    "\n",
    "\t\t# Setting the updated parameters before computing disparity map\n",
    "\t\tstereo.setNumDisparities(numDisparities)\n",
    "\t\tstereo.setBlockSize(blockSize)\n",
    "\t\tstereo.setPreFilterType(preFilterType)\n",
    "\t\tstereo.setPreFilterSize(preFilterSize)\n",
    "\t\tstereo.setPreFilterCap(preFilterCap)\n",
    "\t\tstereo.setTextureThreshold(textureThreshold)\n",
    "\t\tstereo.setUniquenessRatio(uniquenessRatio)\n",
    "\t\tstereo.setSpeckleRange(speckleRange)\n",
    "\t\tstereo.setSpeckleWindowSize(speckleWindowSize)\n",
    "\t\tstereo.setDisp12MaxDiff(disp12MaxDiff)\n",
    "\t\tstereo.setMinDisparity(minDisparity)\n",
    "\n",
    "\t\t# Calculating disparity using the StereoBM algorithm\n",
    "\t\tdisparity = stereo.compute(Left_nice,Right_nice)\n",
    "\t\t# NOTE: compute returns a 16bit signed single channel image,\n",
    "\t\t# CV_16S containing a disparity map scaled by 16. Hence it \n",
    "\t\t# is essential to convert it to CV_16S and scale it down 16 times.\n",
    "\n",
    "\t\t# Converting to float32 \n",
    "\t\tdisparity = disparity.astype(np.float32)\n",
    "\n",
    "\t\t# Normalizing the disparity map\n",
    "\t\tdisparity = (disparity/16.0 - minDisparity)/numDisparities\n",
    "\t\t\n",
    "\t\tdepth_map = M/(disparity) # for depth in (cm)\n",
    "\n",
    "\t\tmask_temp = cv2.inRange(depth_map,min_depth,max_depth)\n",
    "\t\tdepth_map = cv2.bitwise_and(depth_map,depth_map,mask=mask_temp)\n",
    "\n",
    "\t\tobstacle_avoid()\n",
    "\t\t\n",
    "\t\tcv2.resizeWindow(\"disp\",700,700)\n",
    "\t\tcv2.imshow(\"disp\",disparity)\n",
    "\t\tif cv2.waitKey(1) == 27:\n",
    "\t\t\tCamL.release()\n",
    "\t\t\tCamR.release()\n",
    "\t\t\tcv2.destroyAllWindows()\n",
    "\t\t\tbreak\n",
    "\t\n",
    "\telse:\n",
    "\t\tCamL= cv2.VideoCapture(CamL_id)\n",
    "\t\tCamR= cv2.VideoCapture(CamR_id)"
   ]
  },
  {
   "cell_type": "code",
   "execution_count": null,
   "metadata": {},
   "outputs": [],
   "source": []
  }
 ],
 "metadata": {
  "interpreter": {
   "hash": "efce433238c4c83d0a2246ac4c91ef180f40beb5ded9a11f35b8c563c51b39aa"
  },
  "kernelspec": {
   "display_name": "Python 3.7.0 ('cvlabenv': venv)",
   "language": "python",
   "name": "python3"
  },
  "language_info": {
   "codemirror_mode": {
    "name": "ipython",
    "version": 3
   },
   "file_extension": ".py",
   "mimetype": "text/x-python",
   "name": "python",
   "nbconvert_exporter": "python",
   "pygments_lexer": "ipython3",
   "version": "3.7.0"
  },
  "orig_nbformat": 4
 },
 "nbformat": 4,
 "nbformat_minor": 2
}
