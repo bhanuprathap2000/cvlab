{
  "cells": [
    {
      "cell_type": "code",
      "execution_count": 4,
      "metadata": {
        "colab": {
          "base_uri": "https://localhost:8080/",
          "height": 1000
        },
        "id": "01TRKUXTgXLO",
        "outputId": "535c3a78-f0b0-4941-9bf0-6004af60a600"
      },
      "outputs": [
        {
          "name": "stdout",
          "output_type": "stream",
          "text": [
            "['D:/8 th semester/computer vision/cvlab/LAB-3/images/stereoRight\\\\imageR0.png', 'D:/8 th semester/computer vision/cvlab/LAB-3/images/stereoRight\\\\imageR1.png', 'D:/8 th semester/computer vision/cvlab/LAB-3/images/stereoRight\\\\imageR10.png', 'D:/8 th semester/computer vision/cvlab/LAB-3/images/stereoRight\\\\imageR11.png', 'D:/8 th semester/computer vision/cvlab/LAB-3/images/stereoRight\\\\imageR12.png', 'D:/8 th semester/computer vision/cvlab/LAB-3/images/stereoRight\\\\imageR13.png', 'D:/8 th semester/computer vision/cvlab/LAB-3/images/stereoRight\\\\imageR14.png', 'D:/8 th semester/computer vision/cvlab/LAB-3/images/stereoRight\\\\imageR15.png', 'D:/8 th semester/computer vision/cvlab/LAB-3/images/stereoRight\\\\imageR16.png', 'D:/8 th semester/computer vision/cvlab/LAB-3/images/stereoRight\\\\imageR17.png', 'D:/8 th semester/computer vision/cvlab/LAB-3/images/stereoRight\\\\imageR18.png', 'D:/8 th semester/computer vision/cvlab/LAB-3/images/stereoRight\\\\imageR19.png', 'D:/8 th semester/computer vision/cvlab/LAB-3/images/stereoRight\\\\imageR2.png', 'D:/8 th semester/computer vision/cvlab/LAB-3/images/stereoRight\\\\imageR20.png', 'D:/8 th semester/computer vision/cvlab/LAB-3/images/stereoRight\\\\imageR21.png', 'D:/8 th semester/computer vision/cvlab/LAB-3/images/stereoRight\\\\imageR22.png', 'D:/8 th semester/computer vision/cvlab/LAB-3/images/stereoRight\\\\imageR23.png', 'D:/8 th semester/computer vision/cvlab/LAB-3/images/stereoRight\\\\imageR24.png', 'D:/8 th semester/computer vision/cvlab/LAB-3/images/stereoRight\\\\imageR25.png', 'D:/8 th semester/computer vision/cvlab/LAB-3/images/stereoRight\\\\imageR26.png', 'D:/8 th semester/computer vision/cvlab/LAB-3/images/stereoRight\\\\imageR27.png', 'D:/8 th semester/computer vision/cvlab/LAB-3/images/stereoRight\\\\imageR28.png', 'D:/8 th semester/computer vision/cvlab/LAB-3/images/stereoRight\\\\imageR29.png', 'D:/8 th semester/computer vision/cvlab/LAB-3/images/stereoRight\\\\imageR3.png', 'D:/8 th semester/computer vision/cvlab/LAB-3/images/stereoRight\\\\imageR30.png', 'D:/8 th semester/computer vision/cvlab/LAB-3/images/stereoRight\\\\imageR31.png', 'D:/8 th semester/computer vision/cvlab/LAB-3/images/stereoRight\\\\imageR32.png', 'D:/8 th semester/computer vision/cvlab/LAB-3/images/stereoRight\\\\imageR4.png', 'D:/8 th semester/computer vision/cvlab/LAB-3/images/stereoRight\\\\imageR5.png', 'D:/8 th semester/computer vision/cvlab/LAB-3/images/stereoRight\\\\imageR6.png', 'D:/8 th semester/computer vision/cvlab/LAB-3/images/stereoRight\\\\imageR7.png', 'D:/8 th semester/computer vision/cvlab/LAB-3/images/stereoRight\\\\imageR8.png', 'D:/8 th semester/computer vision/cvlab/LAB-3/images/stereoRight\\\\imageR9.png']\n",
            "True\n",
            "True\n",
            "True\n",
            "True\n",
            "True\n",
            "True\n",
            "True\n",
            "True\n",
            "True\n",
            "True\n",
            "True\n",
            "True\n",
            "True\n",
            "True\n",
            "True\n",
            "True\n",
            "True\n",
            "True\n",
            "True\n",
            "True\n",
            "True\n",
            "True\n",
            "True\n",
            "True\n",
            "True\n",
            "True\n",
            "True\n",
            "True\n",
            "True\n",
            "True\n",
            "True\n",
            "True\n",
            "True\n",
            "total error: 0.028052061865185076\n"
          ]
        }
      ],
      "source": [
        "import numpy as np\n",
        "import cv2 as cv\n",
        "import os\n",
        "\n",
        "\n",
        "################ FIND CHESSBOARD CORNERS - OBJECT POINTS AND IMAGE POINTS #############################\n",
        "\n",
        "chessboardSize = (10,6)\n",
        "\n",
        "# termination criteria\n",
        "criteria = (cv.TERM_CRITERIA_EPS + cv.TERM_CRITERIA_MAX_ITER, 30, 0.001)\n",
        "\n",
        "\n",
        "# prepare object points, like (0,0,0), (1,0,0), (2,0,0) ....,(6,5,0)\n",
        "objp = np.zeros((chessboardSize[0] * chessboardSize[1], 3), np.float32)\n",
        "objp[:,:2] = np.mgrid[0:chessboardSize[0],0:chessboardSize[1]].T.reshape(-1,2)\n",
        "\n",
        "size_of_chessboard_squares_mm = 20\n",
        "objp = objp * size_of_chessboard_squares_mm\n",
        "\n",
        "\n",
        "# Arrays to store object points and image points from all the images.\n",
        "objpoints = [] # 3d point in real world space\n",
        "imgpoints = [] # 2d points in image plane.\n",
        "\n",
        "\n",
        "Dir =r\"D:/8 th semester/computer vision/cvlab/LAB-3/images/stereoRight\"\n",
        "images = os.listdir(Dir)\n",
        "chessBoardImg = [os.path.join(Dir,fname) for fname in images]\n",
        "print(chessBoardImg)\n",
        "for image in chessBoardImg:\n",
        "\n",
        "    \n",
        "\n",
        "    img = cv.imread(image)\n",
        "    img = cv.resize(img,(640, 480))\n",
        "    gray = cv.cvtColor(img, cv.COLOR_BGR2GRAY)\n",
        "\n",
        "    # Find the chess board corners\n",
        "    ret, corners = cv.findChessboardCorners(gray, chessboardSize, None)\n",
        "\n",
        "    print(ret)\n",
        "\n",
        "    \n",
        "\n",
        "    # If found, add object points, image points (after refining them)\n",
        "    if ret == True:\n",
        "\n",
        "        objpoints.append(objp)\n",
        "        corners2 = cv.cornerSubPix(gray, corners, (11,11), (-1,-1), criteria)\n",
        "        imgpoints.append(corners)\n",
        "\n",
        "        # Draw and display the corners\n",
        "        cv.drawChessboardCorners(img, chessboardSize, corners2, ret)\n",
        "        cv.imshow(\"img\",img)\n",
        "        cv.waitKey(1000)\n",
        "\n",
        "\n",
        "cv.destroyAllWindows()\n",
        "\n",
        "\n",
        "\n",
        "\n",
        "# # ############## CALIBRATION #######################################################\n",
        "\n",
        "ret, cameraMatrix, dist, rvecs, tvecs = cv.calibrateCamera(objpoints, imgpoints, chessboardSize, None, None)\n",
        "\n",
        "\n",
        "# # ############## UNDISTORTION #####################################################\n",
        "\n",
        "# img = cv.imread('/content/drive/MyDrive/CVPROJECT/New data/Vivo_Y95/image1.jpeg')\n",
        "# h,  w = img.shape[:2]\n",
        "# newCameraMatrix, roi = cv.getOptimalNewCameraMatrix(cameraMatrix, dist, (w,h), 1, (w,h))\n",
        "\n",
        "\n",
        "\n",
        "# # # # Undistort\n",
        "# dst = cv.undistort(img, cameraMatrix, dist, None, newCameraMatrix)\n",
        "\n",
        "# # # # crop the image\n",
        "# x, y, w, h = roi\n",
        "# dst = dst[y:y+h, x:x+w]\n",
        "# cv.imwrite('caliResult1.png', dst)\n",
        "\n",
        "\n",
        "\n",
        "# # # # Undistort with Remapping\n",
        "# mapx, mapy = cv.initUndistortRectifyMap(cameraMatrix, dist, None, newCameraMatrix, (w,h), 5)\n",
        "# dst = cv.remap(img, mapx, mapy, cv.INTER_LINEAR)\n",
        "\n",
        "# # # # crop the image\n",
        "# x, y, w, h = roi\n",
        "# dst = dst[y:y+h, x:x+w]\n",
        "# cv.imwrite('caliResult2.png', dst)\n",
        "\n",
        "\n",
        "\n",
        "\n",
        "# # Reprojection Error\n",
        "mean_error = 0\n",
        "\n",
        "for i in range(len(objpoints)):\n",
        "    imgpoints2, _ = cv.projectPoints(objpoints[i], rvecs[i], tvecs[i], cameraMatrix, dist)\n",
        "    error = cv.norm(imgpoints[i], imgpoints2, cv.NORM_L2)/len(imgpoints2)\n",
        "    mean_error += error\n",
        "\n",
        "print( \"total error: {}\".format(mean_error/len(objpoints)) )"
      ]
    },
    {
      "cell_type": "code",
      "execution_count": 5,
      "metadata": {
        "colab": {
          "base_uri": "https://localhost:8080/"
        },
        "id": "F4ExW0E-iR_Q",
        "outputId": "691c61f0-7538-4d90-8b3d-2bcca42600f7"
      },
      "outputs": [
        {
          "data": {
            "text/plain": [
              "33"
            ]
          },
          "execution_count": 5,
          "metadata": {},
          "output_type": "execute_result"
        }
      ],
      "source": [
        "len(objpoints)"
      ]
    },
    {
      "cell_type": "code",
      "execution_count": 6,
      "metadata": {
        "colab": {
          "base_uri": "https://localhost:8080/"
        },
        "id": "yPnSGIfXXhWs",
        "outputId": "141da20a-79d1-4811-d301-8e6f84cee404"
      },
      "outputs": [
        {
          "data": {
            "text/plain": [
              "array([[2.62245805e+03, 0.00000000e+00, 8.00666441e-01],\n",
              "       [0.00000000e+00, 2.60851112e+03, 1.51535264e+01],\n",
              "       [0.00000000e+00, 0.00000000e+00, 1.00000000e+00]])"
            ]
          },
          "execution_count": 6,
          "metadata": {},
          "output_type": "execute_result"
        }
      ],
      "source": [
        "cameraMatrix"
      ]
    },
    {
      "cell_type": "code",
      "execution_count": 7,
      "metadata": {},
      "outputs": [
        {
          "data": {
            "text/plain": [
              "2622.45805"
            ]
          },
          "execution_count": 7,
          "metadata": {},
          "output_type": "execute_result"
        }
      ],
      "source": [
        "2.62245805e+03"
      ]
    },
    {
      "cell_type": "code",
      "execution_count": 11,
      "metadata": {
        "colab": {
          "base_uri": "https://localhost:8080/"
        },
        "id": "FQdtCgBcXj6I",
        "outputId": "1388e841-fe06-4cd2-bd9e-23d97299fb12"
      },
      "outputs": [
        {
          "data": {
            "text/plain": [
              "11.0634948984375"
            ]
          },
          "execution_count": 11,
          "metadata": {},
          "output_type": "execute_result"
        }
      ],
      "source": [
        "(2.7*2.62245805e+03)/640"
      ]
    }
  ],
  "metadata": {
    "accelerator": "GPU",
    "colab": {
      "name": "LAB2 Camera Calibration .ipynb",
      "provenance": [],
      "toc_visible": true
    },
    "kernelspec": {
      "display_name": "Python 3",
      "name": "python3"
    },
    "language_info": {
      "codemirror_mode": {
        "name": "ipython",
        "version": 3
      },
      "file_extension": ".py",
      "mimetype": "text/x-python",
      "name": "python",
      "nbconvert_exporter": "python",
      "pygments_lexer": "ipython3",
      "version": "3.7.0"
    }
  },
  "nbformat": 4,
  "nbformat_minor": 0
}
